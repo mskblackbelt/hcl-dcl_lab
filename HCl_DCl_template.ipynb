{
 "cells": [
  {
   "cell_type": "markdown",
   "metadata": {},
   "source": [
    "# Rotavibrational Analysis of the Infrared Spectrum of HCl/DCl"
   ]
  },
  {
   "cell_type": "markdown",
   "metadata": {},
   "source": [
    "The title of the notebook should be coherent with file name. Namely, file name should be:    \n",
    "*author's initials_progressive number_title.ipynb*    \n",
    "For example:    \n",
    "*EF_01_Data Exploration.ipynb*"
   ]
  },
  {
   "cell_type": "markdown",
   "metadata": {},
   "source": [
    "## Purpose"
   ]
  },
  {
   "cell_type": "markdown",
   "metadata": {},
   "source": [
    "Given a reference spectrum of a mixture of HCl and DCl, we will do a rotavibrational analysis of the peaks, identifying the isotopic contributions of four different species (<sup>1</sup>H<sup>35</sup>Cl, <sup>1</sup>H<sup>37</sup>Cl, <sup>2</sup>H<sup>35</sup>Cl, and <sup>2</sup>H<sup>37</sup>Cl) and correlating the measured constants with calculated constants obtained from _ab initio_ calculations run in Gaussian16. "
   ]
  },
  {
   "cell_type": "markdown",
   "metadata": {},
   "source": [
    "## Methodology\n",
    "Quickly describe assumptions and processing steps.\n",
    "\n",
    "## Results\n",
    "Describe and comment the most important results.\n",
    "\n",
    "## Suggested next steps\n",
    "State suggested next steps, based on results obtained in this notebook."
   ]
  },
  {
   "cell_type": "markdown",
   "metadata": {},
   "source": [
    "# Setup\n",
    "\n",
    "## Library import\n",
    "We import all the required Python libraries"
   ]
  },
  {
   "cell_type": "code",
   "execution_count": null,
   "metadata": {
    "ExecuteTime": {
     "end_time": "2019-06-16T14:44:50.874881Z",
     "start_time": "2019-06-16T14:44:38.616867Z"
    }
   },
   "outputs": [],
   "source": [
    "# Directory searching\n",
    "import glob\n",
    "\n",
    "# Data manipulation\n",
    "import numpy as np\n",
    "import scipy as sp\n",
    "import pandas as pd\n",
    "\n",
    "# Options for pandas\n",
    "pd.options.display.max_columns = 50\n",
    "pd.options.display.max_rows = 30\n",
    "\n",
    "# Computational chemistry\n",
    "# import json\n",
    "import cclib\n",
    "# import openchemistry as oc\n",
    "\n",
    "# Visualizations\n",
    "import matplotlib.pyplot as plt\n",
    "%matplotlib inline"
   ]
  },
  {
   "cell_type": "markdown",
   "metadata": {},
   "source": [
    "# Parameter definition\n",
    "We set all relevant parameters for our notebook. By convention, parameters are uppercase, while all the \n",
    "other variables follow Python's guidelines."
   ]
  },
  {
   "cell_type": "markdown",
   "metadata": {},
   "source": [
    "\n",
    "# Data import\n",
    "We retrieve all the required data for the analysis."
   ]
  },
  {
   "cell_type": "code",
   "execution_count": null,
   "metadata": {},
   "outputs": [],
   "source": [
    "# These two files were taken as one continuous collection using a Nicolet iS5\n",
    "# FTIR spectrometer. Sample details can be found in the instruction manual.\n",
    "hcl_spectrum = pd.read_csv('raw_spectra/HCl_spectrum.csv', \n",
    "                           comment='#', # Lines beginning with '#' are skipped\n",
    "                           skip_blank_lines=True, # Blank lines are skipped\n",
    "                           skipinitialspace=True, # Skip spaces after delimiter\n",
    "                           index_col=['Wavenumber']) # Set the index column\n",
    "dcl_spectrum = pd.read_csv('raw_spectra/DCl_spectrum.csv', \n",
    "                           comment='#', \n",
    "                           skip_blank_lines=True, \n",
    "                           skipinitialspace=True,\n",
    "                           index_col=['Wavenumber'])\n",
    "hcl_spectrum.head()"
   ]
  },
  {
   "cell_type": "code",
   "execution_count": null,
   "metadata": {},
   "outputs": [],
   "source": [
    "hcl_spectrum.plot();\n",
    "dcl_spectrum.plot();"
   ]
  },
  {
   "cell_type": "markdown",
   "metadata": {},
   "source": [
    "Begin by running Gaussian scans on the bond length using the template file `gaussian_calcs/bond_scans/hcl_bond-template.log`. Look at the structure of the file, duplicate it, then run three calculations using the following methods (replace `<method>` in the template input file):\n",
    "\n",
    "|       Method Type         | Gaussian Keyword |\n",
    "| :-----------------------  | :--------------  |\n",
    "| Unrestricted Hartree-Fock |     `UHF`        |\n",
    "|           DFT             |   `PBE1PBE`      |\n",
    "|     Coupled Cluster       |   `CCSD(T)`      |"
   ]
  },
  {
   "cell_type": "markdown",
   "metadata": {},
   "source": [
    "We want to make a dictionary in which to store all of our constants that are calculated later in the lab. For now, we'll just create the dictionary with a header row. Later, as we calculate the constants for each molecule, we will add in keys (rows) with a corresponding list of constants."
   ]
  },
  {
   "cell_type": "code",
   "execution_count": null,
   "metadata": {},
   "outputs": [],
   "source": [
    "# Create a dictionary with the molecule as the key and the variables as a list of values\n",
    "hcl_con_dict = {'Constants': ['nu_0', 'B_e', 'A_e', 'D_e', 'nu_e', 'k', ...]}"
   ]
  },
  {
   "cell_type": "markdown",
   "metadata": {},
   "source": [
    "Import the files from your bond length scans. If you name them in a reasonable manner, you can use the loop below to automatically import all three of them and combine them into a single dictionary object. "
   ]
  },
  {
   "cell_type": "code",
   "execution_count": null,
   "metadata": {},
   "outputs": [],
   "source": [
    "# Import bond scan logs\n",
    "# Create an empty dictionary of bond scan logs\n",
    "hcl_pes = dict()\n",
    "\n",
    "# If your names are reasonable, you should be able to capture your method \n",
    "# name with the `*` character below. Example would be \n",
    "# `scan-UHF.log`, `scan-PBE.log`, `scan-CCSDT.log`\n",
    "for name in glob.glob('gaussian_calcs/bond_scans/scan-*.log'):\n",
    "    # Create a reference name based on your filename\n",
    "    logname = name.split(sep='-')[1].split(sep='.')[0]\n",
    "    hcl_pes[logname] = cclib.io.ccread(name)\n",
   ]
  },
  {
   "cell_type": "markdown",
   "metadata": {},
   "source": [
    "In the next cell, you will need to search your log files for the section labeled “Vibrational Energies at Anharmonic Level”. In there, pull the relevant anharmonic energies and insert them into the `np.array`s below. The harmonic vibrational energy is already set. You should also set a value for the rotational energy and the ground state energy (copy the structure for the `vibanharms` with new labels). "
   ]
  },
  {
   "cell_type": "code",
   "execution_count": null,
   "metadata": {},
   "outputs": [],
   "source": [
    "# Import data from the vibrotational calculations. \n",
    "# May need to keep in cclib format\n",
    "\n",
    "## Manually copy values from the Anharmonic Energy section of the log files.  \n",
    "\n",
    "# Create dictionary of calculation logs\n",
    "hcl_logs = dict()\n",
    "# for name in glob.glob('gaussian_calcs/vibrot_calcs/[hd]3[57]cl.log'):\n",
    "for name in glob.glob('gaussian_calcs/vibrot_calcs/*.log'):\n",
    "    logname = name.split(sep='/')[-1].split(sep='.')[0]\n",
    "    hcl_logs[logname] = cclib.io.ccread(name)\n",
    "\n",
    "# Fill in your values from your log files below\n",
    "hcl_logs['h35cl'].vibanharms = np.array([])\n",
    "hcl_logs['h37cl'].vibanharms = np.array([])\n",
    "hcl_logs['d35cl'].vibanharms = np.array([])\n",
    "hcl_logs['d37cl'].vibanharms = np.array([])\n",
    "\n",
    "# Add values for rotational constants and ground state energy below:\n",
    "\n",
    "\n",
    "\n",
    "# Check to make sure all imports were successful. \n",
    "# You should see a summary for each molecule. \n",
    "for mol, log in hcl_logs.items():\n",
    "    print(mol.upper())\n",
    "    for key, value in log.metadata.items():\n",
    "        print(f'{key:18}: {value}')"
   ]
  },
  {
   "cell_type": "markdown",
   "metadata": {},
   "source": [
    "# Data processing\n",
    "Put here the core of the notebook. Feel free to further split this section into subsections."
   ]
  },
  {
   "cell_type": "markdown",
   "metadata": {},
   "source": [
    "## Bond length analysis"
   ]
  },
  {
   "cell_type": "markdown",
   "metadata": {},
   "source": [
    "In this section, you should plot and analyze the results of your bond-length scan from Gaussian. In the discussion section, show a plot of your results. Also show (preferably overlaid) a plot of a Morse potential and a harmonic potential for this molecule. Use the equilibrium bond length from your optimization calculations for HCl as the input for $r_0$. "
   ]
  },
  {
   "cell_type": "markdown",
   "metadata": {},
   "source": [
    "This cell shows a nice trick for plotting multiple objects in a single plot. The loop gives a good visual cue for what is happening. You can also see that we've added a legend and axis labels. Can you also add a title to the plot? If you need help, check out the help page for [matplotlib][mpl-help]. The section on Examples is often useful. \n",
    "\n",
    "[mpl-help]: https://matplotlib.org/contents.html"
   ]
  },
  {
   "cell_type": "code",
   "execution_count": null,
   "metadata": {},
   "outputs": [],
   "source": [
    "methods = []\n",
    "\n",
    "for method, data in hcl_pes.items():\n",
    "    methods.append(method)\n",
    "    plt.plot(data.scanparm[0], data.scanenergies)\n",
    "plt.legend(methods)\n",
    "plt.xlabel('Bond Length (Å)')\n",
    "plt.ylabel('Energy (Ha)')\n",
    "plt.show()"
   ]
  },
  {
   "cell_type": "markdown",
   "metadata": {},
   "source": [
    "Again, we'll use the `distance` module from `scipy.spatial` to calculate the distance between our atoms. You could easily do this by hand, as they are only displaced along the _z_-axis, but this is good practice and easy to repeat on each import as a sanity check. In your discussion, comment on why there isn't any difference between the isotopic calculations for the equilibrium bond length while there is a difference in energy. "
   ]
  },
  {
   "cell_type": "code",
   "execution_count": null,
   "metadata": {},
   "outputs": [],
   "source": [
    "# Calculate equilibrium bond length and display energy from calculations\n",
    "from scipy.spatial import distance\n",
    "\n",
    "for name, mol in hcl_logs.items():\n",
    "    mol.eqbond = distance.euclidean(mol.atomcoords[-1][0], mol.atomcoords[-1][1])\n",
    "    print(f'The equilibrium bond length in {name.upper()} is {mol.eqbond} Å.')\n",
    "    print(f'The minimum energy in {name.upper()} is {mol.freeenergy} Ha.')"
   ]
  },
  {
   "cell_type": "markdown",
   "metadata": {},
   "source": [
    "## Analysis of <sup>1</sup>HCl Spectra"
   ]
  },
  {
   "cell_type": "markdown",
   "metadata": {},
   "source": [
    "This next cell is where some of the routines in the `scipy` package can really shine. We could open these spectra in Excel and try to pick out the peak maxima by hand, hoping that we really grabbed the peak and didn't miss a step, but this is a problem ripe for automation. The `scipy.signal` library contains the [`find_peaks`][sp-find_peaks] function which allows us to automatically grab peaks. The automation can be trained on a number of parameters. We'll use the `prominence` and `height` parameters to exclude \"peaks\" in the baseline and keep us from grabbing peaks that are too close to each other (_i.e.,_ if a peak has a slight shoulder, both points might be chosen). \n",
    "\n",
    "When you execute the cell below, you should see a plot of the HCl region of the spectrum. If you play with the parameters for `prominence` and `height`, you should be able to select most of the peaks (they're all stored in the list `peaks_hcl` that you create on the third line). You will probably need to execute the cell multiple times (every time you change a parameter). \n",
    "\n",
    "The second two calls to `plt.plot` select a slice of the spectrum based on the location of the `peaks_hcl` list and plot only the points in that slice. Adjust the start and stop points of the slice as required to get matching sets of peaks for the two isotopes (_i.e.,_ peaks with the same _J_ values). If your smaller peaks run from $m=-10$ to $9$, then your larger peaks should span that same range. \n",
    "\n",
    "[sp-find_peaks]: https://docs.scipy.org/doc/scipy/reference/generated/scipy.signal.find_peaks.html"
   ]
  },
  {
   "cell_type": "code",
   "execution_count": null,
   "metadata": {},
   "outputs": [],
   "source": [
    "# Extract peak locations from HCl spectra\n",
    "from scipy.signal import find_peaks, peak_prominences\n",
    "peaks_hcl, _ = find_peaks(hcl_spectrum['Absorbance'],\n",
    "                     prominence= , # Start with .01, adjust from there\n",
    "                     height= )  # Start just above the baseline of your spectrum\n",
    "print(len(peaks_hcl)) # Tells us how many total peaks were found\n",
    "\n",
    "\n",
    "# We'll plot the spectrum along with the peaks we found. Note the steps\n",
    "# in the peaks list. We know that there are two isotopes and that they \n",
    "# should be every other peak, so we step by 2. List slicing (or stepping)\n",
    "# is done with [start:stop:step]. You may need to adjust the start and stop\n",
    "# points to get a good group. Try to get the same pairs for your peaks so \n",
    "# your lists are the same length. \n",
    "plt.plot(hcl_spectrum.index, hcl_spectrum['Absorbance'])\n",
    "plt.plot(hcl_spectrum.iloc[peaks_hcl[0:-1:2]], # Select the even peaks\n",
    "         marker='.', \n",
    "         color='red',\n",
    "         linewidth=0)\n",
    "plt.plot(hcl_spectrum.iloc[peaks_hcl[1:-1:2]], # Select the odd peaks\n",
    "         marker='.', \n",
    "         color='orange',\n",
    "         linewidth=0)\n",
    "plt.show()"
   ]
  },
  {
   "cell_type": "markdown",
   "metadata": {},
   "source": [
    "Now that you've selected your peaks, it's time to assign the peak wavenumbers to a new list and match them to our _m_ values for analysis. You'll need to inspect your plot and figure out which _m_ values are represented. Hopefully your list is roughly symmetric. Remember that there is no peak for $ m = 0 $, so we'll be removing that value (see the modification of `m_values` below). \n",
    "\n",
    "Once you create the list of _m_ values, you need to assign the plotted peaks from the previous cell. Fill in the slice values below. "
   ]
  },
  {
   "cell_type": "code",
   "execution_count": null,
   "metadata": {},
   "outputs": [],
   "source": [
    "# Assign peak wavelengths to dataframe\n",
    "m_values = np.arange(-9,10)\n",
    "m_values = m_values[m_values != 0]\n",
    "hcl_data = {'m': m_values,\n",
    "            'H35Cl': hcl_spectrum.iloc[peaks_hcl[::2]].index.values,\n",
    "            'H37Cl': hcl_spectrum.iloc[peaks_hcl[::2]].index.values}\n",
    "print(m_values)\n",
    "# Create a dataframe from our assigned values\n",
    "hcl_peak_data = pd.DataFrame(data=hcl_data)\n",
    "\n",
    "hcl_peak_data"
   ]
  },
  {
   "cell_type": "markdown",
   "metadata": {},
   "source": [
    "As instructed, you need to look at the difference between your peak energies. The DataFrame method `diff()` does exactly this by default (takes the difference between successive rows). Note the progression of values, comment on this in your discussion with respect to your calculated value for $ B_e $. "
   ]
  },
  {
   "cell_type": "code",
   "execution_count": null,
   "metadata": {},
   "outputs": [],
   "source": [
    "# Print difference between peaks scaled by difference in m values\n",
    "print('Mean values:\\n',hcl_peak_data[['H35Cl','H37Cl']].diff().div(hcl_peak_data['m'].diff(), axis=0).mean())\n",
    "hcl_peak_data[['H35Cl','H37Cl']].diff().div(hcl_peak_data.m.diff(), axis=0)"
   ]
  },
  {
   "cell_type": "markdown",
   "metadata": {},
   "source": [
    "Now you need to plot the two series of peaks vs. _m_ values. "
   ]
  },
  {
   "cell_type": "code",
   "execution_count": null,
   "metadata": {},
   "outputs": [],
   "source": [
    "# Plot 'm' vs peak location\n",
    "hcl_peak_data.plot(x='m', y=['H35Cl','H37Cl'], marker='.', linewidth=0);"
   ]
  },
  {
   "cell_type": "markdown",
   "metadata": {},
   "source": [
    "At this point, we'll use the `curve_fit` routine from `scipy.optimize`. The statistics for the curve fit are given as a [covariance matrix][cov-mat]. The diagonal elements are the variance of the individual elements (fit parameters, the polynomial coefficients in this case). To get out the standard errors, we need to take the square root of the diagonal elements of that matrix (line 11). For more details and an example, see the [documentation page][sp-curve_fit].\n",
    "\n",
    "[sp-curve_fit]: https://docs.scipy.org/doc/scipy/reference/generated/scipy.optimize.curve_fit.html\n",
    "[cov-mat]: https://en.wikipedia.org/wiki/Covariance_matrix"
   ]
  },
  {
   "cell_type": "code",
   "execution_count": null,
   "metadata": {},
   "outputs": [],
   "source": [
    "from scipy.optimize import curve_fit\n",
    "\n",
    "# Create model function for \\nu(m). Can be kept for later fits\n",
    "def nu(m, nu0, B_e, A_e, D_J):\n",
    "    return nu0 + ((2 * B_e - 2 * A_e) * m) - (A_e * m ** 2) - (4* D_J * m ** 3)\n",
    "\n",
    "# Fit the H35Cl data, store the fit coefficients and covariance matrix\n",
    "h35cl_coeff, h35cl_cov = curve_fit(nu, hcl_peak_data['m'], hcl_peak_data['H35Cl'])\n",
    "\n",
    "# Diagonal elements are the variance of the fit parameters, \\sigma^2\n",
    "h35cl_fit_err = np.sqrt(np.diag(h35cl_cov)) \n",
    "print(h35cl_coeff,'\\n', h35cl_fit_err)\n",
    "\n",
    "# Plot our resultant fit agains the original data as a check\n",
    "plt.plot(hcl_peak_data['m'], nu(hcl_peak_data['m'], *h35cl_coeff), 'b-',\n",
    "         hcl_peak_data['m'], hcl_peak_data['H35Cl'], 'rd')\n",
    "\n",
    "# Provide a legend that states the fit parameters. \n",
    "# LaTeX elements can be included by wrapping them in $…$\n",
    "plt.legend(['fit, coefficients:\\n' + \n",
    "            f'$\\\\nu_0=${h35cl_coeff[0]:1.2f}, $B_e=${h35cl_coeff[1]:1.2f},\\n' + \n",
    "            f'$\\\\alpha_e=${h35cl_coeff[2]:1.4}, $D_J=${h35cl_coeff[3]:1.3e}', \n",
    "            '$^1$H$^{35}$Cl experimental'],loc='lower right')"
   ]
  },
  {
   "cell_type": "markdown",
   "metadata": {},
   "source": [
    "Now repeat these steps on H<sup>37</sup>Cl. "
   ]
  },
  {
   "cell_type": "markdown",
   "metadata": {},
   "source": [
    "## Analysis of <sup>2</sup>HCl Spectra"
   ]
  },
  {
   "cell_type": "markdown",
   "metadata": {},
   "source": [
    "Repeat the previous steps for the deuterium chloride spectrum. Append the list of constants to the `hcl_con_dict` object. "
   ]
  },
  {
   "cell_type": "markdown",
   "metadata": {},
   "source": [
    "## Calculation of molecular constants"
   ]
  },
  {
   "cell_type": "markdown",
   "metadata": {},
   "source": [
    "Now is the time to calculate all of the constants from the lab manual. You can call the fit parameters from the previous cell the same way they're called in the legend block (`coeff[n]`). You'll need to use these values to calculate the other values ($ \\nu_e, \\nu_e\\chi_e, k $). I suggest storing them in a dictionary (`dict()` or `{}`) so that you can append the values for each successive molecule using the syntax shown in the final line of the cell.\n",
    "\n",
    "You'll need to calculate all of the constants listed in the lab manual, then extend your coefficient list with those values (line 7 in the second cell below). Then you need to add this list of values to the dictionary (created in the'Import' section) with a new key (a molecule identifier works well). If you don't think you can calculate a value for a particular constant (should be two values per molecule), set it equal to `np.nan`. This makes sure that there is an entry in your data table, even if it's just an \"empty\" cell."
   ]
  },
  {
   "cell_type": "code",
   "execution_count": null,
   "metadata": {},
   "outputs": [],
   "source": [
    "# Calculate values for \\nu_e, \\nu_e\\chi_e, k (force constant)\n",
    "\n",
    "# Convert coefficients to a list of values, then add your new values to the list\n",
    "# h35cl_vals will be used to create an entry (row) in your dictionary of constants\n",
    "h35cl_vals = h35cl_coeff.tolist()\n",
    "h35cl_vals.extend([\n",
    "    #Insert list of values or variables for nu_e, k, etc.\n",
    "])\n",
    "\n",
    "# Add an entry to the dictionary for your first molecule. \n",
    "# This creates a new key ('H35Cl') and assigns h35cl_vals to that key. \n",
    "# Make sure you keep the order you assigned above\n",
    "hcl_con_dict['H35Cl'] =  h35cl_vals"
   ]
  },
  {
   "cell_type": "markdown",
   "metadata": {},
   "source": [
    "You should repeat this process for your theoretical molecules (all four of them), assigning the variables in the same order."
   ]
  },
  {
   "cell_type": "markdown",
   "metadata": {},
   "source": [
    "## Comparison of Experimental and Computational Constants"
   ]
  },
  {
   "cell_type": "markdown",
   "metadata": {},
   "source": [
    "You should now be able to add a set of rows to the dictionary with your computational constants. You can convert this completed dictionary to a pandas DataFrame so that it can be displayed as a nice table in your report with the following code:\n",
    "\n",
    "```python\n",
    "hcl_constants = pd.DataFrame(hcl_con_dict,\n",
    "                            columns=['Constants', 'col2', 'col5', 'col3', 'col1', 'col4'])\n",
    "hcl_constants.set_index('Constants')\n",
    "```\n",
    "\n",
    "This will make a new DataFrame called `hcl_constants` where the names of the constants are the index for the table. The `columns=` entry will allow you to order the columns any way you want by typing in the list of column names (as quoted strings). I suggest this so that you can arrange each experimental column next to its theoretical counterpart for easier comparison. You can print it out by typing `hcl_constants` in an empty code cell and executing that alone. "
   ]
  },
  {
   "cell_type": "markdown",
   "metadata": {},
   "source": [
    "## Additional Calculations"
   ]
  },
  {
   "cell_type": "markdown",
   "metadata": {},
   "source": [
    "At this point, you should be able to complete any additional calculations requested in the lab manual on your own. "
   ]
  },
  {
   "cell_type": "markdown",
   "metadata": {},
   "source": [
    "## Results and Discussion"
   ]
  },
  {
   "cell_type": "markdown",
   "metadata": {},
   "source": [
    "After completing the calculations, write up a discussion on your results. You should include a few select figures (the plots of the spectrum with chosen peaks might be good, as are plots of $m$ vs $\\nu(m)$). Add any references used below. \n",
    "\n",
    "If you have trouble with the Python code, it's worth having a look at the documentation. Each of the packages used has a wealth of documentation ([NumPy][np], [SciPy][sp], [Matplotlib][mpl], [Pandas][pd]), and [StackExchange][http://www.stackexchange.com/] has a wealth of knowledge (answers are often in the top of search results for a given topic). If you're still having problems, feel free to ask your classmates in the Teams channel for the lab (text or voice/screensharing). I'm also happy to try to help, but you'll be at the mercy of my schedule, which might be hectic for the next week or so. \n",
    "\n",
    "Before turning this lab in (Export to PDF and email to me), please clean up the notebook. Feel free to delete any cells that seem unnecessary (such as this one). "
   ]
  },
  {
   "cell_type": "markdown",
   "metadata": {},
   "source": [
    "# References\n",
    "We report here relevant references:\n",
    "1. author1, article1, journal1, year1, url1\n",
    "2. author2, article2, journal2, year2, url2"
   ]
  }
 ],
 "metadata": {
  "kernelspec": {
   "display_name": "Python 3",
   "language": "python",
   "name": "python3"
  },
  "language_info": {
   "codemirror_mode": {
    "name": "ipython",
    "version": 3
   },
   "file_extension": ".py",
   "mimetype": "text/x-python",
   "name": "python",
   "nbconvert_exporter": "python",
   "pygments_lexer": "ipython3",
   "version": "3.7.9"
  },
  "nteract": {
   "version": "0.22.4"
  }
 },
 "nbformat": 4,
 "nbformat_minor": 4
}
