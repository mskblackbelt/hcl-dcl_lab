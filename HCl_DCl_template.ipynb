{
 "cells": [
  {
   "cell_type": "markdown",
   "metadata": {},
   "source": [
    "---\n",
    "title: Rotavibrational Analysis of the Infrared Spectrum of HCl/DCl\n",
    "authors:\n",
    "  - name: Author Name\n",
    "    email: example@cuny.edu\n",
    "    affiliations:\n",
    "      - ror: 00g2xk477\n",
    "      - institution: CUNY – Hunter College\n",
    "      - department: Chemistry\n",
    "date: 2024-01-01\n",
    "numbering:\n",
    "  heading_2: true\n",
    "  heading_3: true\n",
    "---"
   ]
  },
  {
   "cell_type": "markdown",
   "metadata": {},
   "source": [
    "The title of the notebook should be coherent with file name. Namely, file name should be:    \n",
    "*author's initials_progressive number_title.ipynb*    \n",
    "For example:    \n",
    "*EF_01_Data Exploration.ipynb*"
   ]
  },
  {
   "cell_type": "markdown",
   "metadata": {},
   "source": [
    "## Purpose"
   ]
  },
  {
   "cell_type": "markdown",
   "metadata": {},
   "source": [
    "Explain the purpose of the work. "
   ]
  },
  {
   "cell_type": "markdown",
   "metadata": {},
   "source": [
    "## Methodology"
   ]
  },
  {
   "cell_type": "markdown",
   "metadata": {},
   "source": [
    "Quickly describe assumptions and processing steps."
   ]
  },
  {
   "cell_type": "markdown",
   "metadata": {},
   "source": [
    "## Data Analysis"
   ]
  },
  {
   "cell_type": "markdown",
   "metadata": {},
   "source": [
    "Put here the core of the notebook. Feel free to further split this section into subsections."
   ]
  },
  {
   "cell_type": "markdown",
   "metadata": {},
   "source": [
    "### Setup"
   ]
  },
  {
   "cell_type": "markdown",
   "metadata": {},
   "source": [
    "#### Library import"
   ]
  },
  {
   "cell_type": "markdown",
   "metadata": {},
   "source": [
    "We import all the required Python libraries"
   ]
  },
  {
   "cell_type": "code",
   "metadata": {},
   "outputs": [],
   "source": [
    "# Directory searching\n",
    "from pathlib import Path\n",
    "\n",
    "# Data manipulation\n",
    "import numpy as np\n",
    "import scipy as sp\n",
    "\n",
    "# Visualizations\n",
    "import matplotlib as mpl\n",
    "import matplotlib.pyplot as plt\n",
    "%matplotlib inline\n",
    "plt.style.use('seaborn-v0_8-notebook')\n",
    "mpl.rcParams['axes.spines.right'] = False\n",
    "mpl.rcParams['axes.spines.top'] = False\n",
    "from tabulate import tabulate\n",
    "\n",
    "# Psi4 library\n",
    "import psi4\n",
    "for x in Path().glob(\"psi.*.clean\"): x.unlink() \n",
    "\n",
    "psi4.core.be_quiet()"
   ]
  },
  {
   "cell_type": "markdown",
   "metadata": {},
   "source": [
    "### Parameter definition"
   ]
  },
  {
   "cell_type": "markdown",
   "metadata": {},
   "source": [
    "We set all relevant parameters for our notebook. By convention, parameters are uppercase, while all the \n",
    "other variables follow Python's guidelines."
   ]
  },
  {
   "cell_type": "markdown",
   "metadata": {},
   "source": [
    "### Data import"
   ]
  },
  {
   "cell_type": "markdown",
   "metadata": {},
   "source": [
    "We retrieve all the required data for the analysis."
   ]
  },
  {
   "cell_type": "code",
   "metadata": {},
   "outputs": [],
   "source": [
    "# These two files were taken as one continuous collection using a Nicolet iS5\n",
    "# FTIR spectrometer. Sample details can be found in the instruction manual.\n",
    "\n",
    "raw_data = np.genfromtxt('', # insert the name of your data file here \n",
    "                         delimiter=',', \n",
    "                         names=['wavenumber', 'data'])\n",
    "\n",
    "# Plot _just_ the Data column to see approximate index values for slicing\n",
    "plt.plot(raw_data['data'])"
   ]
  },
  {
   "cell_type": "code",
   "metadata": {},
   "outputs": [],
   "source": [
    "# Try some start and end values from the plot above to get slice ranges\n",
    "idx1, idx2 = 4500, 11000\n",
    "idx3, idx4 = 15500, 26000\n",
    "\n",
    "fig, axs = plt.subplots(2, 1)\n",
    "# DCl spectrum, lower values\n",
    "axs[0].plot(raw_data['wavenumber'][idx1:idx2],raw_data['data'][idx1:idx2]) \n",
    "# HCl spectrum, higher values\n",
    "axs[1].plot(raw_data['wavenumber'][idx3:idx4],raw_data['data'][idx3:idx4]) "
   ]
  },
  {
   "cell_type": "code",
   "metadata": {},
   "outputs": [],
   "source": [
    "# Assign the slices chosen above as HCl/DCl datasets\n",
    "dcl_spectrum = raw_data[idx1:idx2]\n",
    "hcl_spectrum = raw_data[idx3:idx4]"
   ]
  },
  {
   "cell_type": "code",
   "metadata": {},
   "outputs": [],
   "source": [
    "# Constrained layout includes room for titles in plot area\n",
    "fig, axs = plt.subplots(2, 1, layout=\"constrained\") \n",
    "axs[0].plot(hcl_spectrum['wavenumber'], hcl_spectrum['data'], label='HCl')\n",
    "axs[0].set_title('HCl')\n",
    "axs[1].plot(dcl_spectrum['wavenumber'], dcl_spectrum['data'], label='DCl')\n",
    "axs[1].set_title('DCl')\n",
    "fig.show()"
   ]
  },
  {
   "cell_type": "markdown",
   "metadata": {},
   "source": [
    "### Bond length analysis"
   ]
  },
  {
   "cell_type": "markdown",
   "metadata": {},
   "source": [
    "Begin by running Psi4 scans on the bond length using the method demonstrated on the hydrogen fluoride molecule in the Computational Chemistry lab. Look at the structure of the input, duplicate it, then run three calculations using the following methods (redefine `method` for each simulation, or run a loop over a list of `method` values):\n",
    "\n",
    "|  Method Type    | Psi4 Keyword |\n",
    "| :-------------  | :----------- |\n",
    "| Hartree-Fock    |  `HF`        |\n",
    "| Hybrid PT       |  `OMP2`     |\n",
    "| DFT             |  `PBE0`      |"
   ]
  },
  {
   "cell_type": "code",
   "metadata": {
    "tags": []
   },
   "outputs": [],
   "source": [
    "#Fill in the appropriate code from the manual below\n"
   ]
  },
  {
   "cell_type": "markdown",
   "metadata": {},
   "source": [
    "In the next cell, we'll set up four new molecules to perform an anharmonic frequency analysis. Psi4 will fit a potential well to extract the rotational and vibrational parameters for the molecule. The output of the `psi4.diatomic.anharmonicity()` function is a dictionary containing all the parameters describing the given diatomic molecule. "
   ]
  },
  {
   "cell_type": "markdown",
   "metadata": {},
   "source": [
    "Assuming you have an array called `r_vals` already assigned and a folder called `outputs` exists in your notebook folder, you can use the code below to calculate all the anharmonicity parameters for the molecule called `h35cl` (assigned above). As you are performing this four times, you might consider adding the constant dictionary as an entry in another wrapping dictionary where each key in the outer dictionary is the name of an isotopologue, _e.g.,_ `hcl_data['h35cl'] = psi4.diatom…`. \n",
    ":::{code}python\n",
    "energies = []\n",
    "for r in r_vals:\n",
    "    h35cl.r = r\n",
    "    h35cl.update_geometry()\n",
    "    e = psi4.energy('hf/'+basis, molecule=h35cl)\n",
    "    print(r, e)\n",
    "    energies.append(e)\n",
    "    \n",
    "psi4.diatomic.anharmonicity(r_vals, energies, mol=h35cl)\n",
    ":::"
   ]
  },
  {
   "cell_type": "code",
   "metadata": {},
   "outputs": [],
   "source": [
    "# Add your anharmonicity code below and save the output dictionaries for each. \n"
   ]
  },
  {
   "cell_type": "markdown",
   "metadata": {},
   "source": [
    "### Analysis of {sup}`1`HCl Spectra"
   ]
  },
  {
   "cell_type": "markdown",
   "metadata": {},
   "source": [
    "This next cell is where some of the routines in the `scipy` package can really shine. We could open these spectra in Excel and try to pick out the peak maxima by hand, hoping that we really grabbed the peak and didn't miss a step, but this is a problem ripe for automation. The `scipy.signal` library contains the [`find_peaks`][sp-find_peaks] function which allows us to automatically grab peaks. The automation can be trained on a number of parameters. We'll use the `prominence` and `height` parameters to exclude \"peaks\" in the baseline and keep us from grabbing peaks that are too close to each other (_i.e.,_ if a peak has a slight shoulder, both points might be chosen). \n",
    "\n",
    "When you execute the cell below, you should see a plot of the HCl region of the spectrum. If you play with the parameters for `prominence` and `height`, you should be able to select most of the peaks (they're all stored in the list `peaks_hcl` that you create on the third line). You will probably need to execute the cell multiple times (every time you change a parameter). \n",
    "\n",
    "The second two calls to `plt.plot` select a slice of the spectrum based on the location of the `peaks_hcl` list and plot only the points in that slice. Adjust the start and stop points of the slice as required to get matching sets of peaks for the two isotopes (_i.e.,_ peaks with the same _J_ values). If your smaller peaks run from $m=-10$ to $9$, then your larger peaks should span that same range. \n",
    "\n",
    "[sp-find_peaks]: https://docs.scipy.org/doc/scipy/reference/generated/scipy.signal.find_peaks.html"
   ]
  },
  {
   "cell_type": "code",
   "metadata": {},
   "outputs": [],
   "source": [
    "# Extract peak locations from HCl spectra\n",
    "from scipy.signal import find_peaks, peak_prominences\n",
    "peaks_hcl, _ = find_peaks(hcl_spectrum['data'],\n",
    "                     prominence= , # Start with .01, adjust from there\n",
    "                     height= )  # Start just above the baseline of your spectrum\n",
    "print(len(peaks_hcl)) # Tells us how many total peaks were found\n",
    "\n",
    "# We know that there are two isotopes and that they should be alternate every \n",
    "# other peak, so we step our lists by 2. List slicing (or stepping)\n",
    "# is done with [start:stop:step]. You may need to adjust the start and stop\n",
    "# points to get a good grouping of peaks. Try to get the same pairs for your \n",
    "# peaks so your even and odd lists are the same length. \n",
    "\n",
    "even_peak_indices = peaks_hcl[0:-1:2]  # Select the even peaks indices\n",
    "odd_peak_indices = peaks_hcl[1:-1:2] # Select the odd peaks\n",
    "\n",
    "\n",
    "plt.plot(hcl_spectrum['wavenumber'], hcl_spectrum['data']) \n",
    "\n",
    "plt.plot(hcl_spectrum['wavenumber'][even_peak_indices], \n",
    "         hcl_spectrum['data'][even_peak_indices], \n",
    "         marker='.', \n",
    "         color='red',\n",
    "         linewidth=0)\n",
    "\n",
    "plt.plot(hcl_spectrum['wavenumber'][odd_peak_indices], \n",
    "         hcl_spectrum['data'][odd_peak_indices], \n",
    "         marker='.', \n",
    "         color='orange',\n",
    "         linewidth=0)\n",
    " \n",
    "plt.show()"
   ]
  },
  {
   "cell_type": "markdown",
   "metadata": {},
   "source": [
    "Now that you've selected your peaks, it's time to assign the peak wavenumbers to a new list and match them to our _m_ values for analysis. You'll need to inspect your plot and figure out which _m_ values are represented. You should count from the center outward, keeping track of which direction is positive and negative (check the lab guide for details). Hopefully your list is _roughly_ symmetric. Remember that there is no peak for $ m = 0 $, so we'll be removing that value (see the modification of `m_values` below). \n",
    "\n",
    "Once you create the list of _m_ values, you need to assign the plotted peaks from the previous cell. Fill in the slice values below. "
   ]
  },
  {
   "cell_type": "code",
   "metadata": {},
   "outputs": [],
   "source": [
    "# Assign peak wavelengths to Numpy arrays\n",
    "\n",
    "m_values = np.arange(-9,10) # The start value should be your largest negative peak index and the end is the largest positive\n",
    "m_values = m_values[m_values != 0] #We remove the 0-indexed peak, since it's not present in the spectrum\n",
    "\n",
    "# We grab the relevant peak shifts and assign them to variables\n",
    "# Make sure you assign the correct series!\n",
    "H35Cl = hcl_spectrum[even_peak_indices]['wavenumber'] \n",
    "H37Cl = hcl_spectrum[odd_peak_indices]['wavenumber']\n",
    "\n",
    "# The `zip()` function gives us a nice way to take three lists and \n",
    "# group the items one \"row\" at a time. \n",
    "for line in zip(m_values, H35Cl, H37Cl):\n",
    "    print(line)"
   ]
  },
  {
   "cell_type": "markdown",
   "metadata": {},
   "source": [
    "As instructed, you need to look at the difference between your peak energies. The array method `diff()` does exactly this by default (takes the difference between successive rows). Note the progression of values, comment on this in your discussion with respect to your calculated value for $ B_e $. "
   ]
  },
  {
   "cell_type": "code",
   "metadata": {},
   "outputs": [],
   "source": [
    "# Print difference between peaks scaled by difference in m values \n",
    "def scaled_diffs(peaks, m_vals):\n",
    "    diff_peaks = np.diff(peaks)\n",
    "    diff_ms = np.diff(m_vals)\n",
    "    return diff_peaks / diff_ms\n",
    " \n",
    "print(\"Mean values:\\n\",\n",
    "      f\"H35Cl: {scaled_diffs(H35Cl, m_values).mean():2.4f}\\n\", \n",
    "      f\"H37Cl: {scaled_diffs(H37Cl, m_values).mean():2.4f}\")\n",
    "\n",
    "tabulate(zip(scaled_diffs(H35Cl, m_values), scaled_diffs(H35Cl, m_values)), tablefmt='html', headers=['H35Cl', 'H37Cl'])"
   ]
  },
  {
   "cell_type": "markdown",
   "metadata": {},
   "source": [
    "Now you need to plot the two series of peaks vs. $m$ values. "
   ]
  },
  {
   "cell_type": "code",
   "metadata": {},
   "outputs": [],
   "source": [
    "# Plot 'm' vs peak location for the two molecules\n",
    " \n",
    "for item in ['H35Cl', 'H37Cl']:\n",
    "    plt.plot(m_values, eval(item), marker='.', linewidth=0, label=item)\n",
    "\n",
    "plt.legend();"
   ]
  },
  {
   "cell_type": "markdown",
   "metadata": {},
   "source": [
    "At this point, we'll use the `curve_fit` routine from `scipy.optimize`. The statistics for the curve fit are given as a [covariance matrix][cov-mat]. The diagonal elements are the variance of the individual elements (fit parameters, the polynomial coefficients in this case). To get out the standard errors, we need to take the square root of the diagonal elements of that matrix (line 11). For more details and an example, see the [documentation page][sp-curve_fit].\n",
    "\n",
    "[sp-curve_fit]: https://docs.scipy.org/doc/scipy/reference/generated/scipy.optimize.curve_fit.html\n",
    "[cov-mat]: https://en.wikipedia.org/wiki/Covariance_matrix"
   ]
  },
  {
   "cell_type": "code",
   "metadata": {},
   "outputs": [],
   "source": [
    "from scipy.optimize import curve_fit\n",
    "\n",
    "# Create model function for \\nu(m). Can be kept for later fits\n",
    "def nu(m, nu0, B_e, A_e, D_J):\n",
    "    return nu0 + ((2 * B_e - 2 * A_e) * m) - (A_e * m ** 2) - (4* D_J * m ** 3)\n",
    "\n",
    "# Fit the H35Cl data, store the fit coefficients and covariance matrix\n",
    "h35cl_coeff, h35cl_cov = curve_fit(nu, m_values, H35Cl)\n",
    "\n",
    "# Diagonal elements are the variance of the fit parameters, \\sigma^2\n",
    "h35cl_fit_err = np.sqrt(np.diag(h35cl_cov)) \n",
    "print(h35cl_coeff,'\\n', h35cl_fit_err)\n",
    "\n",
    "# Plot our resultant fit agains the original data as a check\n",
    "plt.plot(m_values, nu(m_values, *h35cl_coeff), 'b-',\n",
    "         m_values, H35Cl, 'rd')\n",
    "\n",
    "# Provide a legend that states the fit parameters. \n",
    "# LaTeX elements can be included by wrapping them in $…$\n",
    "plt.legend(['fit, coefficients:\\n' + \n",
    "            f'$\\\\nu_0=${h35cl_coeff[0]:1.2f}, $B_e=${h35cl_coeff[1]:1.2f},\\n' + \n",
    "            f'$\\\\alpha_e=${h35cl_coeff[2]:1.4}, $D_J=${h35cl_coeff[3]:1.3e}', \n",
    "            '$^1$H$^{35}$Cl experimental'],loc='lower right')"
   ]
  },
  {
   "cell_type": "markdown",
   "metadata": {},
   "source": [
    "Now repeat this step on H<sup>37</sup>Cl to get the fit and coefficients for that molecule. "
   ]
  },
  {
   "cell_type": "markdown",
   "metadata": {},
   "source": [
    "### Analysis of {sup}`2`HCl Spectra"
   ]
  },
  {
   "cell_type": "markdown",
   "metadata": {},
   "source": [
    "Repeat the previous steps for the deuterium chloride spectrum. "
   ]
  },
  {
   "cell_type": "markdown",
   "metadata": {},
   "source": [
    "### Calculation of molecular constants"
   ]
  },
  {
   "cell_type": "markdown",
   "metadata": {},
   "source": [
    "Now is the time to calculate all of the constants from the lab manual. You can call the fit parameters from the previous cell the same way they're called in the legend block (`coeff[n]`). You'll need to use these values to calculate the other values ($ \\nu_e, \\nu_e\\chi_e, k $). I suggest storing them in a dictionary (`dict()` or `{}`) so that you can append the values for each successive molecule using the syntax shown in the final line of the following code cell.\n",
    "\n",
    "You'll need to calculate all of the constants listed in the lab manual, then extend your coefficient list with those values (line 7 in the second cell below). Then you need to add this list of values to the dictionary (created in the 'Import' section) with a new key (a molecule identifier like `'H35Cl` works well). If you don't think you can calculate a value for a particular constant (should be two values per molecule), set it equal to `np.nan`. This makes sure that there is an entry in your data table, even if it's just an \"empty\" cell."
   ]
  },
  {
   "cell_type": "code",
   "metadata": {},
   "outputs": [],
   "source": [
    "# Calculate values for \\nu_e, \\nu_e\\chi_e, k (force constant)\n",
    "\n",
    "# Convert coefficients to a list of values, then add your new values to the list\n",
    "# h35cl_vals will be used to create an entry (row) in your dictionary of constants\n",
    "h35cl_vals = h35cl_coeff.tolist()\n",
    "h35cl_vals.extend([\n",
    "    #Insert list of values or variables for nu_e, k, etc.\n",
    "])\n",
    "\n",
    "# Add an entry to the dictionary for your first molecule. \n",
    "# This creates a new key ('H35Cl') and assigns h35cl_vals to that key. \n",
    "# Make sure you keep the order you assigned above\n",
    "hcl_con_dict['H35Cl'] =  h35cl_vals"
   ]
  },
  {
   "cell_type": "markdown",
   "metadata": {},
   "source": [
    "You should repeat this process for your theoretical molecules (all four of them), assigning the variables in the same order."
   ]
  },
  {
   "cell_type": "markdown",
   "metadata": {},
   "source": [
    "### Comparison of Experimental and Computational Constants"
   ]
  },
  {
   "cell_type": "markdown",
   "metadata": {},
   "source": [
    "You should now be able to combine your computational and experimental dictionaries for display. The `tabulate` function (imported at the start of this notebook) will allow you to display a dictionary as an HTML table, which you can embed within a Markdown cell in your report. "
   ]
  },
  {
   "cell_type": "markdown",
   "metadata": {},
   "source": [
    "### Additional Calculations"
   ]
  },
  {
   "cell_type": "markdown",
   "metadata": {},
   "source": [
    "At this point, you should be able to complete any additional calculations requested in the lab manual on your own. "
   ]
  },
  {
   "cell_type": "markdown",
   "metadata": {},
   "source": [
    "## Results and Discussion"
   ]
  },
  {
   "cell_type": "markdown",
   "metadata": {},
   "source": [
    "After completing the calculations, write up a discussion on your results. You should include a few select figures (the plots of the spectrum with chosen peaks might be good, as are plots of $m$ vs $\\nu(m)$). Add any references used below. \n",
    "\n",
    "If you have trouble with the Python code, it's worth having a look at the documentation. Each of the packages used has a wealth of documentation ([NumPy][np], [SciPy][sp], [Matplotlib][mpl], and [StackExchange][sx] has a wealth of knowledge (answers are often in the top of search results for a given topic). If you're still having problems, feel free to ask your classmates in the Teams channel for the lab (text or voice/screensharing). I'm also happy to try to help, but you'll be at the mercy of my schedule, which might be hectic for the next week or so. \n",
    "\n",
    "Before turning this lab in to the submissions folder, please clean up the notebook. Feel free to delete any cells that seem unnecessary (such as this one). \n",
    "\n",
    "[np]: https://numpy.org/\n",
    "[sp]: https://scipy.org/\n",
    "[mpl]: https://matplotlib.org/\n",
    "[sx]: http://www.stackexchange.com/"
   ]
  },
  {
   "cell_type": "markdown",
   "metadata": {},
   "source": [
    "## References\n",
    "We report here relevant references:\n",
    "1. author1, article1, journal1, year1, url1\n",
    "2. author2, article2, journal2, year2, url2"
   ]
  }
 ],
 "metadata": {
  "kernelspec": {
   "display_name": "Python (PChem Lab)",
   "language": "python",
   "name": "pchem2"
  },
  "language_info": {
   "codemirror_mode": {
    "name": "ipython",
    "version": 3
   },
   "file_extension": ".py",
   "mimetype": "text/x-python",
   "name": "python",
   "nbconvert_exporter": "python",
   "pygments_lexer": "ipython3",
   "version": "3.10.13"
  },
  "nteract": {
   "version": "0.22.4"
  },
  "widgets": {
   "application/vnd.jupyter.widget-state+json": {
    "state": {},
    "version_major": 2,
    "version_minor": 0
   }
  }
 },
 "nbformat": 4,
 "nbformat_minor": 4
}
